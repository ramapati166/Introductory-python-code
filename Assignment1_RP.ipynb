{
 "cells": [
  {
   "cell_type": "markdown",
   "metadata": {},
   "source": [
    "# ASSIGNMENT - I\n",
    "NAME-RAMAPATI PATRA\n",
    "EMAIL-ramanaatpatrra@gmail.com\n",
    "Contact-9907455988\n",
    "College Name-NATIONAL INSTITUTE OF TECHNOLOGY,DURGAPUR\n",
    "\n"
   ]
  },
  {
   "cell_type": "markdown",
   "metadata": {},
   "source": [
    "Q1.A company decided to give bonus of 5% to employee if his/her year of service is more than 5 years. Ask user for their salary and year of service and print the net bonus amount."
   ]
  },
  {
   "cell_type": "code",
   "execution_count": null,
   "metadata": {
    "scrolled": true
   },
   "outputs": [],
   "source": [
    "salary=int(input(\"What is your salary ?\"))\n",
    "year_of_service=float(input(\"How may years you are working for this company ?\"))\n",
    "if(year_of_service>5):\n",
    "    bonus=salary*(5/100)\n",
    "    print(\"your net bonus amount is :\", bonus)\n",
    "else:\n",
    "    print(\"you are not elligible to get bonus \")\n",
    "           "
   ]
  },
  {
   "cell_type": "markdown",
   "metadata": {},
   "source": [
    "Q2.A school has following rules for grading system: a. Below 25 - F b. 25 to 45 - E c. 45 to 50 - D d. 50 to 60 - C e. 60 to 80 - B f. Above 80 - A Ask user to enter marks and print the corresponding grade."
   ]
  },
  {
   "cell_type": "code",
   "execution_count": null,
   "metadata": {},
   "outputs": [],
   "source": [
    "marks=int(input(\"Enter the marks obtained : \"))\n",
    "if(marks<25):\n",
    "    print(\"Your grade is : F\")\n",
    "elif(marks>=25 and marks<45):\n",
    "    print(\"Your grade is : E\")\n",
    "elif(marks>=45 and marks<50):\n",
    "    print(\"Your grade is : D\")\n",
    "elif(marks>=50 and marks<60):\n",
    "    print(\"Your grade is : C\")\n",
    "elif(marks>=60 and marks<80):\n",
    "    print(\"Your grade is : B\")\n",
    "elif(marks>80):\n",
    "    print(\"Your grade is : A\")\n",
    "    \n",
    "    "
   ]
  },
  {
   "cell_type": "markdown",
   "metadata": {},
   "source": [
    "Q3.A student will not be allowed to sit in exam if his/her attendence is less than 75%. Take following input from user Number of classes held Number of classes attended. And print percentage of class attended Is student is allowed to sit in exam or not."
   ]
  },
  {
   "cell_type": "code",
   "execution_count": null,
   "metadata": {},
   "outputs": [],
   "source": [
    "required_percentage=75\n",
    "total_class_held=int(input(\"Enter the total number of classes held :\"))\n",
    "class_attended=int(input(\"Enter the number of classes attended by you :\"))\n",
    "percentage_of_attendance=(class_attended/total_class_held)*100\n",
    "if(percentage_of_attendance>required_percentage):\n",
    "    print(\"You are allowed to sit in the exam\")\n",
    "else:\n",
    "    print(\"You are not allowed to sit in the exam\")\n",
    "    "
   ]
  },
  {
   "cell_type": "markdown",
   "metadata": {},
   "source": [
    "Q4.Ask user to enter age, sex ( M or F ), marital status ( Y or N ) and then using following rules print their place of service. if employee is female, then she will work only in urban areas. if employee is a male and age is in between 20 to 40 then he may work in anywhere if employee is male and age is in between 40 t0 60 then he will work in urban areas only. And any other input of age should print \"ERROR\""
   ]
  },
  {
   "cell_type": "code",
   "execution_count": null,
   "metadata": {},
   "outputs": [],
   "source": [
    "age=int(input(\"Enter your age :\"))\n",
    "sex=input(\"Enter your sex,'M' for male and 'F' for female :\")\n",
    "marital_status=input(\"Enter your marital status, 'Y' for yes and 'N' for  no :\")\n",
    "if(sex=='F'):\n",
    "    print(\"You will work only in urban areas :\")\n",
    "elif((sex=='M')and (age>=20 and age<=40)):\n",
    "     print(\"you may work anywhere \")     \n",
    "elif((sex=='M')and (age>=40 and age<=60)):\n",
    "     print(\"You will work only in urban areas :\")\n",
    "else:\n",
    "    print(\"ERROR\")     "
   ]
  },
  {
   "cell_type": "markdown",
   "metadata": {},
   "source": [
    "Q5.Take 10 integers from keyboard using loop and print their average value on the screen."
   ]
  },
  {
   "cell_type": "code",
   "execution_count": null,
   "metadata": {},
   "outputs": [],
   "source": [
    "sum=0\n",
    "for i in range(10):\n",
    "    value=int(input(\"Enter the value\"))\n",
    "    sum+=value\n",
    "average=sum/10\n",
    "print(\"The average value of entered 10 numbers is : \", average)"
   ]
  },
  {
   "cell_type": "markdown",
   "metadata": {},
   "source": [
    "Q6.Write a program to calculate factorial of a number."
   ]
  },
  {
   "cell_type": "code",
   "execution_count": null,
   "metadata": {},
   "outputs": [],
   "source": [
    "value=int(input(\"Enter the value :\"))\n",
    "total=1\n",
    "for i in range(value):\n",
    "    total=total*(i+1)\n",
    "print(total)    "
   ]
  },
  {
   "cell_type": "markdown",
   "metadata": {},
   "source": [
    "Q7.Take integer inputs from user until he/she presses q ( Ask to press q to quit after every integer input ). Print average and product of all numbers."
   ]
  },
  {
   "cell_type": "code",
   "execution_count": null,
   "metadata": {
    "scrolled": true
   },
   "outputs": [],
   "source": [
    "count=0\n",
    "sum=0\n",
    "total=1\n",
    "entry=0\n",
    "while(entry!='q'):\n",
    "    entry=input(\"Enter the number : \")\n",
    "    if(entry=='q'):\n",
    "        break\n",
    "    total=total*int(entry)\n",
    "    sum=sum+int(entry)\n",
    "    count=count+1\n",
    "    average=sum/count\n",
    "    \n",
    "print(\"Average of all numbers is :\", average)\n",
    "print(\"Product of all numbers is :\", total)\n"
   ]
  },
  {
   "cell_type": "markdown",
   "metadata": {},
   "source": [
    "Q8.A three digit number is called Armstrong number if sum of cube of its digit is equal to number itself.E.g.- 153 is an Armstrong number because (13)+(53)+(33) = 153. Write all Armstrong numbers between 100 to 500."
   ]
  },
  {
   "cell_type": "code",
   "execution_count": null,
   "metadata": {},
   "outputs": [],
   "source": [
    "for x in range(100,500):\n",
    "    p=(x//100)\n",
    "    q=(x%100)//10\n",
    "    r=(x%100)%10\n",
    "    if((p**3+q**3+r**3)==(100*p+10*q+r)):\n",
    "        print(x)\n",
    "        continue\n"
   ]
  },
  {
   "cell_type": "markdown",
   "metadata": {},
   "source": [
    "Q9.Write a program to find the length of the string \"refrigerator\" without using len function."
   ]
  },
  {
   "cell_type": "code",
   "execution_count": null,
   "metadata": {},
   "outputs": [],
   "source": [
    "count=0\n",
    "for i in \"refrigerator\":\n",
    "    count=count+1\n",
    "print(count)    "
   ]
  },
  {
   "cell_type": "markdown",
   "metadata": {},
   "source": [
    "Q.10 Write a program that takes your full name as input and displays the abbreviations of the first and middle names except the last name which is displayed as it is. For example, if your name is Robert Brett Roser, then the output should be R.B.Roser."
   ]
  },
  {
   "cell_type": "code",
   "execution_count": null,
   "metadata": {},
   "outputs": [],
   "source": [
    "name=input(\"Enter your name :\")\n",
    "print(f\"{name[0]}.{name[5]}.{name[10:]}\")"
   ]
  }
 ],
 "metadata": {
  "kernelspec": {
   "display_name": "Python 3",
   "language": "python",
   "name": "python3"
  },
  "language_info": {
   "codemirror_mode": {
    "name": "ipython",
    "version": 3
   },
   "file_extension": ".py",
   "mimetype": "text/x-python",
   "name": "python",
   "nbconvert_exporter": "python",
   "pygments_lexer": "ipython3",
   "version": "3.7.6"
  }
 },
 "nbformat": 4,
 "nbformat_minor": 4
}
